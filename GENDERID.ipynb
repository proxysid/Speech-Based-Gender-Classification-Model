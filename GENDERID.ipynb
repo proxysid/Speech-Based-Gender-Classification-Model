import pandas as pd
gender_df = pd.read_csv(r"C:\Users\tanmo\OneDrive\SEM-6\ML\archive (1)\cleaned_gender.csv")
age_df = pd.read_csv(r"C:\Users\tanmo\OneDrive\SEM-6\ML\archive (1)\cleaned_age.csv")
age_df1=age_df.drop(["Unnamed: 0.1"], axis=1)
age_df2=age_df1.drop(["Unnamed: 0"], axis=1)
gender_df1=gender_df.drop(["Unnamed: 0"], axis=1)
gender_df1["label"]=gender_df1["label"].map({'male':0,'female':1})
age_df2["label"]=age_df2["label"].map({'young':2,'matured':3,'old':4})
gender_df1 = gender_df1.rename(columns={'label': 'gender'})
age_df2 = age_df2.rename(columns={'label': 'age'})
merged_df = pd.concat([gender_df1, age_df2], axis=1)
merged_df.to_csv("merged_voice_dataset.csv", index=False)
merged_df = merged_df.loc[:, ~merged_df.columns.duplicated()]
merged_df
import matplotlib.pyplot as plt
import seaborn as sns

correlation_matrix = merged_df.corr()

plt.figure(figsize=(14, 12))

sns.heatmap(correlation_matrix, annot=True, fmt=".2f", cmap='coolwarm', cbar=True, square=True, linewidths=0.5)

plt.title('Correlation Matrix of Features and Age')
plt.show()
from sklearn.model_selection import train_test_split
from sklearn.ensemble import RandomForestClassifier
from sklearn.metrics import accuracy_score, confusion_matrix,classification_report

X = merged_df.drop(columns=['gender'])  
y_gender = merged_df['gender']  

X_train, X_test, y_gender_train, y_gender_test = train_test_split(X, y_gender, test_size=0.2, random_state=42,shuffle=True,stratify=y_gender)
model_gender = RandomForestClassifier(n_estimators=100, random_state=42,criterion='entropy',class_weight='balanced')
model_gender.fit(X_train, y_gender_train)

y_gender_pred = model_gender.predict(X_test)

print("Gender Accuracy:", accuracy_score(y_gender_test, y_gender_pred))
cm_gender = confusion_matrix(y_gender_test, y_gender_pred)
print("Gender Confusion Matrix:")
print(cm_gender)
print("ClassificationReport:\n",classification_report(y_gender_test,y_gender_pred,target_names=['female','male']))

X1 = merged_df.drop(columns=['age','gender'])
y_age = merged_df['age'] 
X1_train, X1_test, y_age_train, y_age_test = train_test_split(X1, y_age, test_size=0.2, random_state=42,shuffle=True)
model_age = RandomForestClassifier(n_estimators=100, random_state=42,criterion='gini')
model_age.fit(X1_train, y_age_train)

y_age_pred = model_age.predict(X1_test)

print("Age Accuracy: ", accuracy_score(y_age_test, y_age_pred))
cm_age = confusion_matrix(y_age_test, y_age_pred)
print("Age Confusion Matrix:")
print(cm_age)
print("ClassificationReport:\n",classification_report(y_age_test,y_age_pred,target_names=['young','matured','old']))
import joblib
# Save the gender and age models
joblib.dump(model_gender, 'gender_model.pkl')
joblib.dump(model_age, 'age_model.pkl')
model_gender = joblib.load('gender_model.pkl')
model_age = joblib.load('age_model.pkl')
import sounddevice as sd
from scipy.io.wavfile import write

fs = 44100  
duration = 5 
print("Recording...")
recording = sd.rec(int(duration * fs), samplerate=fs, channels=1)
sd.wait()
write("user_voice.wav", fs, recording)
print("Recording complete.")
import numpy as np
import librosa
import joblib

model_gender = joblib.load("gender_model.pkl")
model_age = joblib.load("age_model.pkl")

def extract_voice_features(file_path, model_age):
    y, sr = librosa.load(file_path)

    meanfreq = np.mean(librosa.feature.spectral_centroid(y=y, sr=sr))
    sd = np.std(y)
    median = np.median(y)
    Q25 = np.percentile(y, 25)
    Q75 = np.percentile(y, 75)
    IQR = Q75 - Q25
    skew = np.mean((y - np.mean(y))*3) / (np.std(y)*3 + 1e-6)
    kurt = np.mean((y - np.mean(y))*4) / (np.std(y)*4 + 1e-6)
    sp_ent = -np.sum(np.abs(y) * np.log2(np.abs(y) + 1e-10))
    sfm = np.mean(librosa.feature.spectral_flatness(y=y))
    mode = float(librosa.feature.spectral_bandwidth(y=y, sr=sr).mean())
    centroid = meanfreq
    meanfun = np.mean(y)
    minfun = np.min(y)
    maxfun = np.max(y)
    meandom = np.mean(librosa.feature.spectral_rolloff(y=y, sr=sr))
    mindom = np.min(y)
    maxdom = np.max(y)
    dfrange = maxdom - mindom
    modindx = np.mean(np.abs(np.diff(y)))

    features = [meanfreq, sd, median, Q25, Q75, skew, kurt, mode,
                centroid, meanfun, minfun, maxfun, meandom, mindom,
                maxdom, dfrange, modindx, sp_ent, sfm, IQR]

    age_input = np.array(features).reshape(1, -1)
    predicted_age = model_age.predict(age_input)[0]

    features.append(predicted_age)

    return np.array(features).reshape(1, -1), predicted_age
def predict_gender_age_from_audio(file_path):
    features_with_age, age_pred = extract_voice_features(file_path, model_age)
    
    gender_pred = model_gender.predict(features_with_age)[0]
    gender_proba = model_gender.predict_proba(features_with_age)[0]

    gender_map = {0: "Male", 1: "Female"}
    age_map = {2: "Young", 3: "Matured", 4: "Old"}

    return {
        "gender": gender_map[gender_pred],
        "gender_probabilities": {
            "Male": round(gender_proba[0]*100, 2),
            "Female": round(gender_proba[1]*100, 2)
        },
        "predicted_age_group": age_map[age_pred]
    }
result = predict_gender_age_from_audio("user_voice.wav")
print("Predicted Gender:", result['gender'])
print("Gender Probabilities:", result['gender_probabilities'])
print("Predicted Age Group:", result['predicted_age_group'])